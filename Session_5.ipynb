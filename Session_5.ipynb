{
 "cells": [
  {
   "cell_type": "markdown",
   "metadata": {
    "id": "mmKTuJwfZvLW"
   },
   "source": [
    "* Linear Algebra\n",
    "* Scalars and Vectors\n",
    "* Vector Operation\n",
    "* Norm of a Vector\n",
    "* Matrix and Matrix Operations\n",
    "* Rank of Matrix\n",
    "* Determinant of Matrix\n",
    "* Inverse of Matrix\n",
    "* Eigenvalues and Eigenvectors\n",
    "* Calculus in Linear Algebra\n",
    "* Importance of Statistics for Data Science"
   ]
  },
  {
   "cell_type": "code",
   "execution_count": 38,
   "metadata": {
    "id": "_UyLdXkzZG7u"
   },
   "outputs": [],
   "source": [
    "import numpy as np"
   ]
  },
  {
   "cell_type": "code",
   "execution_count": 39,
   "metadata": {
    "id": "gsZ-8afmaNvs"
   },
   "outputs": [],
   "source": [
    "vector = np.array([1, 2, 3])\n",
    "\n",
    "matrix = np.array([[1, 2, 3], [4, 5, 6], [7, 8, 9]])"
   ]
  },
  {
   "cell_type": "code",
   "execution_count": 40,
   "metadata": {
    "colab": {
     "base_uri": "https://localhost:8080/"
    },
    "id": "B57I6rHPbLkH",
    "outputId": "cc0ec557-3499-401c-9801-029d9a81a8aa"
   },
   "outputs": [
    {
     "data": {
      "text/plain": [
       "array([1, 2, 3])"
      ]
     },
     "execution_count": 40,
     "metadata": {},
     "output_type": "execute_result"
    }
   ],
   "source": [
    "vector"
   ]
  },
  {
   "cell_type": "code",
   "execution_count": 41,
   "metadata": {
    "colab": {
     "base_uri": "https://localhost:8080/"
    },
    "id": "cKExzJD1bUKi",
    "outputId": "e0d8b82c-1d75-432a-9ee2-c09cba059d6c"
   },
   "outputs": [
    {
     "data": {
      "text/plain": [
       "array([[ 2,  4,  6],\n",
       "       [ 8, 10, 12],\n",
       "       [14, 16, 18]])"
      ]
     },
     "execution_count": 41,
     "metadata": {},
     "output_type": "execute_result"
    }
   ],
   "source": [
    "result = matrix + matrix\n",
    "result"
   ]
  },
  {
   "cell_type": "code",
   "execution_count": 42,
   "metadata": {
    "colab": {
     "base_uri": "https://localhost:8080/"
    },
    "id": "sUr-JStJb9hF",
    "outputId": "718f1a06-d989-4dd9-f762-777e8bd32b95"
   },
   "outputs": [
    {
     "data": {
      "text/plain": [
       "array([[ 2,  4,  6],\n",
       "       [ 8, 10, 12],\n",
       "       [14, 16, 18]])"
      ]
     },
     "execution_count": 42,
     "metadata": {},
     "output_type": "execute_result"
    }
   ],
   "source": [
    "result = 2 * matrix\n",
    "result"
   ]
  },
  {
   "cell_type": "code",
   "execution_count": 43,
   "metadata": {
    "colab": {
     "base_uri": "https://localhost:8080/"
    },
    "id": "utSIlihVbNP0",
    "outputId": "222fe88d-7d9b-4863-c201-e1777132f401"
   },
   "outputs": [
    {
     "data": {
      "text/plain": [
       "array([[1, 2, 3],\n",
       "       [4, 5, 6],\n",
       "       [7, 8, 9]])"
      ]
     },
     "execution_count": 43,
     "metadata": {},
     "output_type": "execute_result"
    }
   ],
   "source": [
    "matrix"
   ]
  },
  {
   "cell_type": "code",
   "execution_count": 44,
   "metadata": {
    "colab": {
     "base_uri": "https://localhost:8080/"
    },
    "id": "sh-74rHecZGO",
    "outputId": "0f24caf1-0cff-4112-f4cf-4adb058105f9"
   },
   "outputs": [
    {
     "data": {
      "text/plain": [
       "array([[1, 4, 7],\n",
       "       [2, 5, 8],\n",
       "       [3, 6, 9]])"
      ]
     },
     "execution_count": 44,
     "metadata": {},
     "output_type": "execute_result"
    }
   ],
   "source": [
    "transpose = matrix.T\n",
    "transpose"
   ]
  },
  {
   "cell_type": "markdown",
   "metadata": {
    "id": "KKDLK3igdL4B"
   },
   "source": [
    "### Dot Product  \n",
    " a = [a1, a2, a3] and b = [b1, b2, b3], the dot product is a1*b1 + a2*b2 + a3*b3."
   ]
  },
  {
   "cell_type": "code",
   "execution_count": 45,
   "metadata": {
    "colab": {
     "base_uri": "https://localhost:8080/"
    },
    "id": "NaroDpVAdLKb",
    "outputId": "2b96eae0-781c-4a93-98e8-ca481088a70e"
   },
   "outputs": [
    {
     "data": {
      "text/plain": [
       "32"
      ]
     },
     "execution_count": 45,
     "metadata": {},
     "output_type": "execute_result"
    }
   ],
   "source": [
    "# Define two vectors\n",
    "vector1 = np.array([1, 2, 3])\n",
    "vector2 = np.array([4, 5, 6])\n",
    "\n",
    "# Compute dot product\n",
    "dot_product = np.dot(vector1, vector2)\n",
    "dot_product"
   ]
  },
  {
   "cell_type": "code",
   "execution_count": 46,
   "metadata": {
    "colab": {
     "base_uri": "https://localhost:8080/"
    },
    "id": "-MIhSYwrdLM6",
    "outputId": "20912ede-e448-417b-ec44-6a9d06874303"
   },
   "outputs": [
    {
     "data": {
      "text/plain": [
       "array([[ 30,  36,  42],\n",
       "       [ 66,  81,  96],\n",
       "       [102, 126, 150]])"
      ]
     },
     "execution_count": 46,
     "metadata": {},
     "output_type": "execute_result"
    }
   ],
   "source": [
    "matrix = np.array([[1, 2, 3], [4, 5, 6], [7, 8, 9]])\n",
    "dot_product = np.dot(matrix, matrix)\n",
    "dot_product"
   ]
  },
  {
   "cell_type": "markdown",
   "metadata": {
    "id": "YPyTIhxXhnWe"
   },
   "source": [
    "Determinant\n",
    "\n",
    "![image.png](data:image/png;base64,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)"
   ]
  },
  {
   "cell_type": "markdown",
   "metadata": {
    "id": "7faAHaQ9iTXK"
   },
   "source": [
    "![image.png](data:image/png;base64,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)"
   ]
  },
  {
   "cell_type": "code",
   "execution_count": 47,
   "metadata": {
    "colab": {
     "base_uri": "https://localhost:8080/"
    },
    "id": "0LjVlWG3hpGj",
    "outputId": "7f4981d9-9db8-4169-9ee9-2b829feb4f7e"
   },
   "outputs": [
    {
     "name": "stdout",
     "output_type": "stream",
     "text": [
      "Determinant: 60.000000000000036\n"
     ]
    }
   ],
   "source": [
    "matrix = np.array([[1, 2, 3], [14, 5, 6], [7, 8, 9]])\n",
    "determinant = np.linalg.det(matrix)\n",
    "\n",
    "print(\"Determinant:\", determinant)"
   ]
  },
  {
   "cell_type": "code",
   "execution_count": 48,
   "metadata": {
    "colab": {
     "base_uri": "https://localhost:8080/"
    },
    "id": "wLKPrs7Kj9Ke",
    "outputId": "41cd4e83-0d97-4127-d983-780eeb1514c5"
   },
   "outputs": [
    {
     "data": {
      "text/plain": [
       "array([[-0.05      ,  0.1       , -0.05      ],\n",
       "       [-1.4       , -0.2       ,  0.6       ],\n",
       "       [ 1.28333333,  0.1       , -0.38333333]])"
      ]
     },
     "execution_count": 48,
     "metadata": {},
     "output_type": "execute_result"
    }
   ],
   "source": [
    "np.linalg.inv(matrix)"
   ]
  },
  {
   "cell_type": "markdown",
   "metadata": {
    "id": "jtxVdv7Snj9d"
   },
   "source": [
    "![image.png](data:image/png;base64,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)"
   ]
  },
  {
   "cell_type": "code",
   "execution_count": 49,
   "metadata": {
    "colab": {
     "base_uri": "https://localhost:8080/"
    },
    "id": "8sFidAlBoEih",
    "outputId": "22a1b6a6-ad57-4b32-8041-63fb9a36b0fb"
   },
   "outputs": [
    {
     "data": {
      "text/plain": [
       "array([[ 1,  2,  3],\n",
       "       [14,  5,  6],\n",
       "       [ 7,  8,  9]])"
      ]
     },
     "execution_count": 49,
     "metadata": {},
     "output_type": "execute_result"
    }
   ],
   "source": [
    "matrix"
   ]
  },
  {
   "cell_type": "code",
   "execution_count": 8,
   "metadata": {
    "colab": {
     "base_uri": "https://localhost:8080/"
    },
    "id": "Ka_oAPeTnkrO",
    "outputId": "d38bf2cf-368e-4f66-f5fc-d03548858ac3"
   },
   "outputs": [
    {
     "ename": "NameError",
     "evalue": "name 'np' is not defined",
     "output_type": "error",
     "traceback": [
      "\u001b[1;31m---------------------------------------------------------------------------\u001b[0m",
      "\u001b[1;31mNameError\u001b[0m                                 Traceback (most recent call last)",
      "Cell \u001b[1;32mIn[8], line 2\u001b[0m\n\u001b[0;32m      1\u001b[0m \u001b[38;5;66;03m# Eigenvalues represent the mangnitude and Eigenvectors represent the direction\u001b[39;00m\n\u001b[1;32m----> 2\u001b[0m eigenvalues, eigenvectors \u001b[38;5;241m=\u001b[39m np\u001b[38;5;241m.\u001b[39mlinalg\u001b[38;5;241m.\u001b[39meig(matrix)\n\u001b[0;32m      3\u001b[0m \u001b[38;5;28mprint\u001b[39m(eigenvalues)\n\u001b[0;32m      4\u001b[0m \u001b[38;5;28mprint\u001b[39m(\u001b[38;5;124m'\u001b[39m\u001b[38;5;124m  \u001b[39m\u001b[38;5;124m'\u001b[39m)\n",
      "\u001b[1;31mNameError\u001b[0m: name 'np' is not defined"
     ]
    }
   ],
   "source": [
    "# Eigenvalues represent the mangnitude and Eigenvectors represent the direction\n",
    "eigenvalues, eigenvectors = np.linalg.eig(matrix)\n",
    "print(eigenvalues)\n",
    "print('/n/n')\n",
    "print(eigenvectors)"
   ]
  },
  {
   "cell_type": "markdown",
   "metadata": {
    "id": "BR2oPFXzpkfT"
   },
   "source": [
    "![image.png](data:image/png;base64,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)"
   ]
  },
  {
   "cell_type": "code",
   "execution_count": 51,
   "metadata": {
    "colab": {
     "base_uri": "https://localhost:8080/"
    },
    "id": "XC9rT6gooKLS",
    "outputId": "4f84e250-6dd2-4c2a-84ee-390132819d04"
   },
   "outputs": [
    {
     "data": {
      "text/plain": [
       "array([1, 2, 3])"
      ]
     },
     "execution_count": 51,
     "metadata": {},
     "output_type": "execute_result"
    }
   ],
   "source": [
    "vector"
   ]
  },
  {
   "cell_type": "code",
   "execution_count": 52,
   "metadata": {
    "colab": {
     "base_uri": "https://localhost:8080/"
    },
    "id": "COL6TX-YqQ3o",
    "outputId": "ab520b3c-7875-4a09-e840-021c02b94643"
   },
   "outputs": [
    {
     "data": {
      "text/plain": [
       "3.7416573867739413"
      ]
     },
     "execution_count": 52,
     "metadata": {},
     "output_type": "execute_result"
    }
   ],
   "source": [
    "norm = np.linalg.norm(vector)\n",
    "norm"
   ]
  },
  {
   "cell_type": "code",
   "execution_count": 53,
   "metadata": {
    "colab": {
     "base_uri": "https://localhost:8080/"
    },
    "id": "PHWAFQUcrVu0",
    "outputId": "6ddf5315-bca5-40ea-9752-a06bc986019f"
   },
   "outputs": [
    {
     "data": {
      "text/plain": [
       "array([2., 3.])"
      ]
     },
     "execution_count": 53,
     "metadata": {},
     "output_type": "execute_result"
    }
   ],
   "source": [
    "A = np.array([[3, 1], [1, 2]])\n",
    "B = np.array([9, 8])\n",
    "x = np.linalg.solve(A, B)   #solve the system of linear equation \n",
    "x"
   ]
  },
  {
   "cell_type": "markdown",
   "metadata": {
    "id": "q3OLyVAq0Z9-"
   },
   "source": [
    "Calculus"
   ]
  },
  {
   "cell_type": "code",
   "execution_count": 54,
   "metadata": {
    "id": "ePh_e7tr033M"
   },
   "outputs": [],
   "source": [
    "from scipy.integrate import dblquad"
   ]
  },
  {
   "cell_type": "code",
   "execution_count": 55,
   "metadata": {
    "id": "PDbPICkF0cLN"
   },
   "outputs": [],
   "source": [
    "# Simple function\n",
    "def f(x,y):\n",
    "    return x**2 + y**2"
   ]
  },
  {
   "cell_type": "code",
   "execution_count": 56,
   "metadata": {
    "id": "aDNjjDed1SgY"
   },
   "outputs": [],
   "source": [
    "# Define the limits of integration\n",
    "x_lower = 0  # Lower limit for x\n",
    "x_upper = 1  # Upper limit for x\n",
    "y_lower = 0  # Lower limit for y\n",
    "y_upper = 1  # Upper limit for y"
   ]
  },
  {
   "cell_type": "code",
   "execution_count": 57,
   "metadata": {
    "id": "VpOENjQK1svF"
   },
   "outputs": [],
   "source": [
    "integral, error = dblquad(f, x_lower, x_upper, lambda y: y_lower, lambda y: y_upper)"
   ]
  },
  {
   "cell_type": "code",
   "execution_count": 58,
   "metadata": {
    "colab": {
     "base_uri": "https://localhost:8080/"
    },
    "id": "CT8Z6BtA46F_",
    "outputId": "eb0a6ed9-80b6-4ad3-980f-11c14afdef6d"
   },
   "outputs": [
    {
     "name": "stdout",
     "output_type": "stream",
     "text": [
      "Integral: 0.6666666666666669\n",
      "Error estimate: 1.4754810833321613e-14\n"
     ]
    }
   ],
   "source": [
    "print(\"Integral:\", integral)\n",
    "print(\"Error estimate:\", error)"
   ]
  },
  {
   "cell_type": "code",
   "execution_count": 59,
   "metadata": {
    "colab": {
     "base_uri": "https://localhost:8080/"
    },
    "id": "zB23Ges152o0",
    "outputId": "cce8eaa5-a845-4ac4-baf2-1be530259def"
   },
   "outputs": [
    {
     "name": "stdout",
     "output_type": "stream",
     "text": [
      "Area under the curve: 2.666666666666667\n"
     ]
    },
    {
     "data": {
      "text/plain": [
       "2.960594732333751e-14"
      ]
     },
     "execution_count": 59,
     "metadata": {},
     "output_type": "execute_result"
    }
   ],
   "source": [
    "import numpy as np\n",
    "from scipy.integrate import quad\n",
    "\n",
    "# Define the function\n",
    "def f(x):\n",
    "    return x**2\n",
    "\n",
    "# Calculate the area under the curve from 0 to 2\n",
    "area, error = quad(f, 0, 2)\n",
    "\n",
    "print(\"Area under the curve:\", area)\n",
    "error"
   ]
  },
  {
   "cell_type": "markdown",
   "metadata": {
    "id": "H-FlwF_w7Dlw"
   },
   "source": [
    "Rank"
   ]
  },
  {
   "cell_type": "code",
   "execution_count": 60,
   "metadata": {
    "colab": {
     "base_uri": "https://localhost:8080/"
    },
    "id": "oyJMqK2D7aIh",
    "outputId": "0c2a08b4-5d3f-457f-880d-3329013bed8a"
   },
   "outputs": [
    {
     "data": {
      "text/plain": [
       "array([[1, 2, 3],\n",
       "       [4, 5, 6],\n",
       "       [7, 8, 9]])"
      ]
     },
     "execution_count": 60,
     "metadata": {},
     "output_type": "execute_result"
    }
   ],
   "source": [
    "matrix = np.array([[1, 2, 3], [4, 5, 6], [7, 8, 9]])\n",
    "matrix"
   ]
  },
  {
   "cell_type": "code",
   "execution_count": 61,
   "metadata": {
    "colab": {
     "base_uri": "https://localhost:8080/"
    },
    "id": "8PJaCHqs73dP",
    "outputId": "6788eab6-ad90-467f-8401-a3a244794f50"
   },
   "outputs": [
    {
     "name": "stdout",
     "output_type": "stream",
     "text": [
      "Rank of the matrix: 2\n"
     ]
    }
   ],
   "source": [
    "rank = np.linalg.matrix_rank(matrix)\n",
    "print(\"Rank of the matrix:\", rank)"
   ]
  }
 ],
 "metadata": {
  "colab": {
   "provenance": []
  },
  "kernelspec": {
   "display_name": "Python 3 (ipykernel)",
   "language": "python",
   "name": "python3"
  },
  "language_info": {
   "codemirror_mode": {
    "name": "ipython",
    "version": 3
   },
   "file_extension": ".py",
   "mimetype": "text/x-python",
   "name": "python",
   "nbconvert_exporter": "python",
   "pygments_lexer": "ipython3",
   "version": "3.11.7"
  }
 },
 "nbformat": 4,
 "nbformat_minor": 4
}
